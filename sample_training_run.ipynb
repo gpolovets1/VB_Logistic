{
 "cells": [
  {
   "cell_type": "code",
   "execution_count": 1,
   "metadata": {},
   "outputs": [
    {
     "name": "stdout",
     "output_type": "stream",
     "text": [
      "loaded input_gen\nencoded y labels"
     ]
    },
    {
     "name": "stdout",
     "output_type": "stream",
     "text": [
      "\ncreated X matrix"
     ]
    },
    {
     "name": "stdout",
     "output_type": "stream",
     "text": [
      "\nIteration = "
     ]
    },
    {
     "name": "stdout",
     "output_type": "stream",
     "text": [
      " 0\nbound =  [-257.18744904]\nIteration = "
     ]
    },
    {
     "name": "stdout",
     "output_type": "stream",
     "text": [
      " 1\nbound =  [[-213.0056831]]\nIteration = "
     ]
    },
    {
     "name": "stdout",
     "output_type": "stream",
     "text": [
      " 2\nbound =  [[-201.93856267]]\nIteration = "
     ]
    },
    {
     "name": "stdout",
     "output_type": "stream",
     "text": [
      " 3\nbound =  [[-195.4542398]]\nIteration = "
     ]
    },
    {
     "name": "stdout",
     "output_type": "stream",
     "text": [
      " 4\nbound =  [[-190.42411722]]\nIteration = "
     ]
    },
    {
     "name": "stdout",
     "output_type": "stream",
     "text": [
      " 5\nbound =  [[-186.44594229]]\nIteration = "
     ]
    },
    {
     "name": "stdout",
     "output_type": "stream",
     "text": [
      " 6\nbound =  [[-183.26305836]]\nIteration = "
     ]
    },
    {
     "name": "stdout",
     "output_type": "stream",
     "text": [
      " 7\nbound =  [[-180.64577489]]\nIteration = "
     ]
    },
    {
     "name": "stdout",
     "output_type": "stream",
     "text": [
      " 8\nbound =  [[-178.45172082]]\nIteration = "
     ]
    },
    {
     "name": "stdout",
     "output_type": "stream",
     "text": [
      " 9\nbound =  [[-176.58401198]]\nIteration = "
     ]
    },
    {
     "name": "stdout",
     "output_type": "stream",
     "text": [
      " 10\nbound =  [[-174.97305425]]\nIteration = "
     ]
    },
    {
     "name": "stdout",
     "output_type": "stream",
     "text": [
      " 11\nbound =  [[-173.56756802]]\nIteration = "
     ]
    },
    {
     "name": "stdout",
     "output_type": "stream",
     "text": [
      " 12\nbound =  [[-172.32900652]]\nIteration = "
     ]
    },
    {
     "name": "stdout",
     "output_type": "stream",
     "text": [
      " 13\nbound =  [[-171.22790288]]\nIteration = "
     ]
    },
    {
     "name": "stdout",
     "output_type": "stream",
     "text": [
      " 14\nbound =  [[-170.2413899]]\nIteration = "
     ]
    },
    {
     "name": "stdout",
     "output_type": "stream",
     "text": [
      " 15\nbound =  [[-169.35147268]]\nIteration = "
     ]
    },
    {
     "name": "stdout",
     "output_type": "stream",
     "text": [
      " 16\nbound =  [[-168.54380441]]\nIteration = "
     ]
    },
    {
     "name": "stdout",
     "output_type": "stream",
     "text": [
      " 17\nbound =  [[-167.80680638]]\nIteration = "
     ]
    },
    {
     "name": "stdout",
     "output_type": "stream",
     "text": [
      " 18\nbound =  [[-167.1310272]]\nIteration = "
     ]
    },
    {
     "name": "stdout",
     "output_type": "stream",
     "text": [
      " 19\nbound =  [[-166.50867055]]\nIteration = "
     ]
    },
    {
     "name": "stdout",
     "output_type": "stream",
     "text": [
      " 20\nbound =  [[-165.93324283]]\nIteration = "
     ]
    },
    {
     "name": "stdout",
     "output_type": "stream",
     "text": [
      " 21\nbound =  [[-165.39928724]]\nIteration = "
     ]
    },
    {
     "name": "stdout",
     "output_type": "stream",
     "text": [
      " 22\nbound =  [[-164.90218072]]\nIteration = "
     ]
    },
    {
     "name": "stdout",
     "output_type": "stream",
     "text": [
      " 23\nbound =  [[-164.43797723]]\nIteration = "
     ]
    },
    {
     "name": "stdout",
     "output_type": "stream",
     "text": [
      " 24\nbound =  [[-164.00328543]]\nIteration = "
     ]
    },
    {
     "name": "stdout",
     "output_type": "stream",
     "text": [
      " 25\nbound =  [[-163.59517228]]\nIteration = "
     ]
    },
    {
     "name": "stdout",
     "output_type": "stream",
     "text": [
      " 26\nbound =  [[-163.21108635]]\nIteration = "
     ]
    },
    {
     "name": "stdout",
     "output_type": "stream",
     "text": [
      " 27\nbound =  [[-162.84879624]]\nIteration = "
     ]
    },
    {
     "name": "stdout",
     "output_type": "stream",
     "text": [
      " 28\nbound =  [[-162.50634069]]\nIteration = "
     ]
    },
    {
     "name": "stdout",
     "output_type": "stream",
     "text": [
      " 29\nbound =  [[-162.18198791]]\nIteration = "
     ]
    },
    {
     "name": "stdout",
     "output_type": "stream",
     "text": [
      " 30\nbound =  [[-161.8742021]]\nIteration = "
     ]
    },
    {
     "name": "stdout",
     "output_type": "stream",
     "text": [
      " 31\nbound =  [[-161.58161581]]\nIteration = "
     ]
    },
    {
     "name": "stdout",
     "output_type": "stream",
     "text": [
      " 32\nbound =  [[-161.3030068]]\nIteration = "
     ]
    },
    {
     "name": "stdout",
     "output_type": "stream",
     "text": [
      " 33\nbound =  [[-161.03727876]]\nIteration = "
     ]
    },
    {
     "name": "stdout",
     "output_type": "stream",
     "text": [
      " 34\nbound =  [[-160.78344499]]\nIteration = "
     ]
    },
    {
     "name": "stdout",
     "output_type": "stream",
     "text": [
      " 35\nbound =  [[-160.54061456]]\nIteration = "
     ]
    },
    {
     "name": "stdout",
     "output_type": "stream",
     "text": [
      " 36\nbound =  [[-160.30798058]]\nIteration = "
     ]
    },
    {
     "name": "stdout",
     "output_type": "stream",
     "text": [
      " 37\nbound =  [[-160.08481012]]\nIteration = "
     ]
    },
    {
     "name": "stdout",
     "output_type": "stream",
     "text": [
      " 38\nbound =  [[-159.87043552]]\nIteration = "
     ]
    },
    {
     "name": "stdout",
     "output_type": "stream",
     "text": [
      " 39\nbound =  [[-159.66424698]]\nIteration = "
     ]
    },
    {
     "name": "stdout",
     "output_type": "stream",
     "text": [
      " 40\nbound =  [[-159.465686]]\nIteration = "
     ]
    },
    {
     "name": "stdout",
     "output_type": "stream",
     "text": [
      " 41\nbound =  [[-159.27423981]]\nIteration = "
     ]
    },
    {
     "name": "stdout",
     "output_type": "stream",
     "text": [
      " 42\nbound =  [[-159.08943639]]\nIteration = "
     ]
    },
    {
     "name": "stdout",
     "output_type": "stream",
     "text": [
      " 43\nbound =  [[-158.91084015]]\nIteration = "
     ]
    },
    {
     "name": "stdout",
     "output_type": "stream",
     "text": [
      " 44\nbound =  [[-158.73804813]]\nIteration = "
     ]
    },
    {
     "name": "stdout",
     "output_type": "stream",
     "text": [
      " 45\nbound =  [[-158.57068666]]\nIteration = "
     ]
    },
    {
     "name": "stdout",
     "output_type": "stream",
     "text": [
      " 46\nbound =  [[-158.4084083]]\nIteration = "
     ]
    },
    {
     "name": "stdout",
     "output_type": "stream",
     "text": [
      " 47\nbound =  [[-158.25088927]]\nIteration = "
     ]
    },
    {
     "name": "stdout",
     "output_type": "stream",
     "text": [
      " 48\nbound =  [[-158.09782699]]\nIteration = "
     ]
    },
    {
     "name": "stdout",
     "output_type": "stream",
     "text": [
      " 49\nbound =  [[-157.94893799]]\nIteration = "
     ]
    },
    {
     "name": "stdout",
     "output_type": "stream",
     "text": [
      " 50\nbound =  [[-157.80395597]]\nIteration = "
     ]
    },
    {
     "name": "stdout",
     "output_type": "stream",
     "text": [
      " 51\nbound =  [[-157.66263008]]\nIteration = "
     ]
    },
    {
     "name": "stdout",
     "output_type": "stream",
     "text": [
      " 52\nbound =  [[-157.52472326]]\nIteration = "
     ]
    },
    {
     "name": "stdout",
     "output_type": "stream",
     "text": [
      " 53\nbound =  [[-157.39001086]]\nIteration = "
     ]
    },
    {
     "name": "stdout",
     "output_type": "stream",
     "text": [
      " 54\nbound =  [[-157.25827927]]\nIteration = "
     ]
    },
    {
     "name": "stdout",
     "output_type": "stream",
     "text": [
      " 55\nbound =  [[-157.12932463]]\nIteration = "
     ]
    },
    {
     "name": "stdout",
     "output_type": "stream",
     "text": [
      " 56\nbound =  [[-157.00295174]]\nIteration = "
     ]
    },
    {
     "name": "stdout",
     "output_type": "stream",
     "text": [
      " 57\nbound =  [[-156.87897289]]\nIteration = "
     ]
    },
    {
     "name": "stdout",
     "output_type": "stream",
     "text": [
      " 58\nbound =  [[-156.75720683]]\nIteration = "
     ]
    },
    {
     "name": "stdout",
     "output_type": "stream",
     "text": [
      " 59\nbound =  [[-156.63747777]]\nIteration = "
     ]
    },
    {
     "name": "stdout",
     "output_type": "stream",
     "text": [
      " 60\nbound =  [[-156.51961437]]\nIteration = "
     ]
    },
    {
     "name": "stdout",
     "output_type": "stream",
     "text": [
      " 61\nbound =  [[-156.40344874]]\nIteration = "
     ]
    },
    {
     "name": "stdout",
     "output_type": "stream",
     "text": [
      " 62\nbound =  [[-156.28881552]]\nIteration = "
     ]
    },
    {
     "name": "stdout",
     "output_type": "stream",
     "text": [
      " 63\nbound =  [[-156.17555079]]\nIteration = "
     ]
    },
    {
     "name": "stdout",
     "output_type": "stream",
     "text": [
      " 64\nbound =  [[-156.06349109]]\nIteration = "
     ]
    },
    {
     "name": "stdout",
     "output_type": "stream",
     "text": [
      " 65\nbound =  [[-155.95247232]]\nIteration = "
     ]
    },
    {
     "name": "stdout",
     "output_type": "stream",
     "text": [
      " 66\nbound =  [[-155.84232856]]\nIteration = "
     ]
    },
    {
     "name": "stdout",
     "output_type": "stream",
     "text": [
      " 67\nbound =  [[-155.73289083]]\nIteration = "
     ]
    },
    {
     "name": "stdout",
     "output_type": "stream",
     "text": [
      " 68\nbound =  [[-155.62398567]]\nIteration = "
     ]
    },
    {
     "name": "stdout",
     "output_type": "stream",
     "text": [
      " 69\nbound =  [[-155.51543363]]\nIteration = "
     ]
    },
    {
     "name": "stdout",
     "output_type": "stream",
     "text": [
      " 70\nbound =  [[-155.40704752]]\nIteration = "
     ]
    },
    {
     "name": "stdout",
     "output_type": "stream",
     "text": [
      " 71\nbound =  [[-155.29863041]]\nIteration = "
     ]
    },
    {
     "name": "stdout",
     "output_type": "stream",
     "text": [
      " 72\nbound =  [[-155.18997333]]\nIteration = "
     ]
    },
    {
     "name": "stdout",
     "output_type": "stream",
     "text": [
      " 73\nbound =  [[-155.08085257]]\nIteration = "
     ]
    },
    {
     "name": "stdout",
     "output_type": "stream",
     "text": [
      " 74\nbound =  [[-154.97102651]]\nIteration = "
     ]
    },
    {
     "name": "stdout",
     "output_type": "stream",
     "text": [
      " 75\nbound =  [[-154.86023186]]\nIteration = "
     ]
    },
    {
     "name": "stdout",
     "output_type": "stream",
     "text": [
      " 76\nbound =  [[-154.74817905]]\nIteration = "
     ]
    },
    {
     "name": "stdout",
     "output_type": "stream",
     "text": [
      " 77\nbound =  [[-154.63454676]]\nIteration = "
     ]
    },
    {
     "name": "stdout",
     "output_type": "stream",
     "text": [
      " 78\nbound =  [[-154.5189751]]\nIteration = "
     ]
    },
    {
     "name": "stdout",
     "output_type": "stream",
     "text": [
      " 79\nbound =  [[-154.40105727]]\nIteration = "
     ]
    },
    {
     "name": "stdout",
     "output_type": "stream",
     "text": [
      " 80\nbound =  [[-154.28032913]]\nIteration = "
     ]
    },
    {
     "name": "stdout",
     "output_type": "stream",
     "text": [
      " 81\nbound =  [[-154.15625608]]\nIteration = "
     ]
    },
    {
     "name": "stdout",
     "output_type": "stream",
     "text": [
      " 82\nbound =  [[-154.0282164]]\nIteration = "
     ]
    },
    {
     "name": "stdout",
     "output_type": "stream",
     "text": [
      " 83\nbound =  [[-153.89547997]]\nIteration = "
     ]
    },
    {
     "name": "stdout",
     "output_type": "stream",
     "text": [
      " 84\nbound =  [[-153.75718073]]\nIteration = "
     ]
    },
    {
     "name": "stdout",
     "output_type": "stream",
     "text": [
      " 85\nbound =  [[-153.61228086]]\nIteration = "
     ]
    },
    {
     "name": "stdout",
     "output_type": "stream",
     "text": [
      " 86\nbound =  [[-153.4595237]]\nIteration = "
     ]
    },
    {
     "name": "stdout",
     "output_type": "stream",
     "text": [
      " 87\nbound =  [[-153.29737156]]\nIteration = "
     ]
    },
    {
     "name": "stdout",
     "output_type": "stream",
     "text": [
      " 88\nbound =  [[-153.12392312]]\nIteration = "
     ]
    },
    {
     "name": "stdout",
     "output_type": "stream",
     "text": [
      " 89\nbound =  [[-152.93680366]]\nIteration = "
     ]
    },
    {
     "name": "stdout",
     "output_type": "stream",
     "text": [
      " 90\nbound =  [[-152.73301984]]\nIteration = "
     ]
    },
    {
     "name": "stdout",
     "output_type": "stream",
     "text": [
      " 91\nbound =  [[-152.50877113]]\nIteration = "
     ]
    },
    {
     "name": "stdout",
     "output_type": "stream",
     "text": [
      " 92\nbound =  [[-152.25921425]]\nIteration = "
     ]
    },
    {
     "name": "stdout",
     "output_type": "stream",
     "text": [
      " 93\nbound =  [[-151.97819445]]\nIteration = "
     ]
    },
    {
     "name": "stdout",
     "output_type": "stream",
     "text": [
      " 94\nbound =  [[-151.65800378]]\nIteration = "
     ]
    },
    {
     "name": "stdout",
     "output_type": "stream",
     "text": [
      " 95\nbound =  [[-151.28933409]]\nIteration = "
     ]
    },
    {
     "name": "stdout",
     "output_type": "stream",
     "text": [
      " 96\nbound =  [[-150.8618012]]\nIteration = "
     ]
    },
    {
     "name": "stdout",
     "output_type": "stream",
     "text": [
      " 97\nbound =  [[-150.36571255]]\nIteration = "
     ]
    },
    {
     "name": "stdout",
     "output_type": "stream",
     "text": [
      " 98\nbound =  [[-149.79585947]]\nIteration = "
     ]
    },
    {
     "name": "stdout",
     "output_type": "stream",
     "text": [
      " 99\nbound =  [[-149.15724924]]\nIteration = "
     ]
    },
    {
     "name": "stdout",
     "output_type": "stream",
     "text": [
      " 100\nbound =  [[-148.47016731]]\nIteration = "
     ]
    },
    {
     "name": "stdout",
     "output_type": "stream",
     "text": [
      " 101\nbound =  [[-147.76960584]]\nIteration = "
     ]
    },
    {
     "name": "stdout",
     "output_type": "stream",
     "text": [
      " 102\nbound =  [[-147.09634531]]\nIteration = "
     ]
    },
    {
     "name": "stdout",
     "output_type": "stream",
     "text": [
      " 103\nbound =  [[-146.4838871]]\nIteration = "
     ]
    },
    {
     "name": "stdout",
     "output_type": "stream",
     "text": [
      " 104\nbound =  [[-145.94973338]]\nIteration = "
     ]
    },
    {
     "name": "stdout",
     "output_type": "stream",
     "text": [
      " 105\nbound =  [[-145.49547913]]\nIteration = "
     ]
    },
    {
     "name": "stdout",
     "output_type": "stream",
     "text": [
      " 106\nbound =  [[-145.11257021]]\nIteration = "
     ]
    },
    {
     "name": "stdout",
     "output_type": "stream",
     "text": [
      " 107\nbound =  [[-144.78840582]]\nIteration = "
     ]
    },
    {
     "name": "stdout",
     "output_type": "stream",
     "text": [
      " 108\nbound =  [[-144.51028707]]\nIteration = "
     ]
    },
    {
     "name": "stdout",
     "output_type": "stream",
     "text": [
      " 109\nbound =  [[-144.2672533]]\nIteration = "
     ]
    },
    {
     "name": "stdout",
     "output_type": "stream",
     "text": [
      " 110\nbound =  [[-144.0505996]]\nIteration = "
     ]
    },
    {
     "name": "stdout",
     "output_type": "stream",
     "text": [
      " 111\nbound =  [[-143.85374935]]\nIteration = "
     ]
    },
    {
     "name": "stdout",
     "output_type": "stream",
     "text": [
      " 112\nbound =  [[-143.67188617]]\nIteration = "
     ]
    },
    {
     "name": "stdout",
     "output_type": "stream",
     "text": [
      " 113\nbound =  [[-143.50154884]]\nIteration = "
     ]
    },
    {
     "name": "stdout",
     "output_type": "stream",
     "text": [
      " 114\nbound =  [[-143.34027465]]\nIteration = "
     ]
    },
    {
     "name": "stdout",
     "output_type": "stream",
     "text": [
      " 115\nbound =  [[-143.18631621]]\nIteration = "
     ]
    },
    {
     "name": "stdout",
     "output_type": "stream",
     "text": [
      " 116\nbound =  [[-143.03842932]]\nIteration = "
     ]
    },
    {
     "name": "stdout",
     "output_type": "stream",
     "text": [
      " 117\nbound =  [[-142.8957198]]\nIteration = "
     ]
    },
    {
     "name": "stdout",
     "output_type": "stream",
     "text": [
      " 118\nbound =  [[-142.75753542]]\nIteration = "
     ]
    }
   ],
   "source": [
    "# Import necessary packages\n",
    "import numpy as np \n",
    "import random\n",
    "from bohning_logistic import parse_command_line, MultiClassLogistic\n",
    "from data_preprocessor import DataPreprocessor\n",
    "from sklearn import linear_model, svm"
   ]
  },
  {
   "cell_type": "code",
   "execution_count": 2,
   "metadata": {},
   "outputs": [],
   "source": [
    "# Preprocess the data for the Bayesian Classifier. \n",
    "np.random.seed(10)\n",
    "random.seed(10)\n",
    "input_gen = DataPreprocessor()\n",
    "inputs, targets, dep_indices, dep_weights = input_gen.load_dataset('iris')"
   ]
  },
  {
   "cell_type": "code",
   "execution_count": 9,
   "metadata": {},
   "outputs": [
    {
     "name": "stdout",
     "output_type": "stream",
     "text": [
      "loaded input_gen\nencoded y labels"
     ]
    },
    {
     "name": "stdout",
     "output_type": "stream",
     "text": [
      "\ncreated X matrix"
     ]
    },
    {
     "name": "stdout",
     "output_type": "stream",
     "text": [
      "\nIteration = "
     ]
    },
    {
     "name": "stdout",
     "output_type": "stream",
     "text": [
      " 0\nbound =  [-258.35973802]\nIteration = "
     ]
    },
    {
     "name": "stdout",
     "output_type": "stream",
     "text": [
      " 1\nbound =  [[-212.92852401]]\nIteration = "
     ]
    },
    {
     "name": "stdout",
     "output_type": "stream",
     "text": [
      " 2\nbound =  [[-201.15972685]]\nIteration = "
     ]
    },
    {
     "name": "stdout",
     "output_type": "stream",
     "text": [
      " 3\nbound =  [[-194.04948758]]\nIteration = "
     ]
    },
    {
     "name": "stdout",
     "output_type": "stream",
     "text": [
      " 4\nbound =  [[-189.05470001]]\nIteration = "
     ]
    },
    {
     "name": "stdout",
     "output_type": "stream",
     "text": [
      " 5\nbound =  [[-185.26740763]]\nIteration = "
     ]
    },
    {
     "name": "stdout",
     "output_type": "stream",
     "text": [
      " 6\nbound =  [[-182.22941947]]\nIteration = "
     ]
    },
    {
     "name": "stdout",
     "output_type": "stream",
     "text": [
      " 7\nbound =  [[-179.73347959]]\nIteration = "
     ]
    },
    {
     "name": "stdout",
     "output_type": "stream",
     "text": [
      " 8\nbound =  [[-177.64618488]]\nIteration = "
     ]
    },
    {
     "name": "stdout",
     "output_type": "stream",
     "text": [
      " 9\nbound =  [[-175.87222184]]\nIteration = "
     ]
    },
    {
     "name": "stdout",
     "output_type": "stream",
     "text": [
      " 10\nbound =  [[-174.34348205]]\nIteration = "
     ]
    },
    {
     "name": "stdout",
     "output_type": "stream",
     "text": [
      " 11\nbound =  [[-173.01042923]]\nIteration = "
     ]
    },
    {
     "name": "stdout",
     "output_type": "stream",
     "text": [
      " 12\nbound =  [[-171.83620976]]\nIteration = "
     ]
    },
    {
     "name": "stdout",
     "output_type": "stream",
     "text": [
      " 13\nbound =  [[-170.79283043]]\nIteration = "
     ]
    },
    {
     "name": "stdout",
     "output_type": "stream",
     "text": [
      " 14\nbound =  [[-169.85863306]]\nIteration = "
     ]
    },
    {
     "name": "stdout",
     "output_type": "stream",
     "text": [
      " 15\nbound =  [[-169.01658539]]\nIteration = "
     ]
    },
    {
     "name": "stdout",
     "output_type": "stream",
     "text": [
      " 16\nbound =  [[-168.25309794]]\nIteration = "
     ]
    },
    {
     "name": "stdout",
     "output_type": "stream",
     "text": [
      " 17\nbound =  [[-167.55718721]]\nIteration = "
     ]
    },
    {
     "name": "stdout",
     "output_type": "stream",
     "text": [
      " 18\nbound =  [[-166.91987258]]\nIteration = "
     ]
    },
    {
     "name": "stdout",
     "output_type": "stream",
     "text": [
      " 19\nbound =  [[-166.33373397]]\nIteration = "
     ]
    },
    {
     "name": "stdout",
     "output_type": "stream",
     "text": [
      " 20\nbound =  [[-165.79258244]]\nIteration = "
     ]
    },
    {
     "name": "stdout",
     "output_type": "stream",
     "text": [
      " 21\nbound =  [[-165.29121131]]\nIteration = "
     ]
    },
    {
     "name": "stdout",
     "output_type": "stream",
     "text": [
      " 22\nbound =  [[-164.82520584]]\nIteration = "
     ]
    },
    {
     "name": "stdout",
     "output_type": "stream",
     "text": [
      " 23\nbound =  [[-164.39079577]]\nIteration = "
     ]
    },
    {
     "name": "stdout",
     "output_type": "stream",
     "text": [
      " 24\nbound =  [[-163.98474003]]\nIteration = "
     ]
    },
    {
     "name": "stdout",
     "output_type": "stream",
     "text": [
      " 25\nbound =  [[-163.60423551]]\nIteration = "
     ]
    },
    {
     "name": "stdout",
     "output_type": "stream",
     "text": [
      " 26\nbound =  [[-163.24684432]]\nIteration = "
     ]
    },
    {
     "name": "stdout",
     "output_type": "stream",
     "text": [
      " 27\nbound =  [[-162.91043522]]\nIteration = "
     ]
    },
    {
     "name": "stdout",
     "output_type": "stream",
     "text": [
      " 28\nbound =  [[-162.5931361]]\nIteration = "
     ]
    },
    {
     "name": "stdout",
     "output_type": "stream",
     "text": [
      " 29\nbound =  [[-162.29329512]]\nIteration = "
     ]
    },
    {
     "name": "stdout",
     "output_type": "stream",
     "text": [
      " 30\nbound =  [[-162.00944875]]\nIteration = "
     ]
    },
    {
     "name": "stdout",
     "output_type": "stream",
     "text": [
      " 31\nbound =  [[-161.74029528]]\nIteration = "
     ]
    },
    {
     "name": "stdout",
     "output_type": "stream",
     "text": [
      " 32\nbound =  [[-161.48467266]]\nIteration = "
     ]
    },
    {
     "name": "stdout",
     "output_type": "stream",
     "text": [
      " 33\nbound =  [[-161.24154004]]\nIteration = "
     ]
    },
    {
     "name": "stdout",
     "output_type": "stream",
     "text": [
      " 34\nbound =  [[-161.00996211]]\nIteration = "
     ]
    },
    {
     "name": "stdout",
     "output_type": "stream",
     "text": [
      " 35\nbound =  [[-160.78909587]]\nIteration = "
     ]
    },
    {
     "name": "stdout",
     "output_type": "stream",
     "text": [
      " 36\nbound =  [[-160.57817935]]\nIteration = "
     ]
    },
    {
     "name": "stdout",
     "output_type": "stream",
     "text": [
      " 37\nbound =  [[-160.37652199]]\nIteration = "
     ]
    },
    {
     "name": "stdout",
     "output_type": "stream",
     "text": [
      " 38\nbound =  [[-160.1834963]]\nIteration = "
     ]
    },
    {
     "name": "stdout",
     "output_type": "stream",
     "text": [
      " 39\nbound =  [[-159.99853079]]\nIteration = "
     ]
    },
    {
     "name": "stdout",
     "output_type": "stream",
     "text": [
      " 40\nbound =  [[-159.82110372]]\nIteration = "
     ]
    },
    {
     "name": "stdout",
     "output_type": "stream",
     "text": [
      " 41\nbound =  [[-159.65073779]]\nIteration = "
     ]
    },
    {
     "name": "stdout",
     "output_type": "stream",
     "text": [
      " 42\nbound =  [[-159.48699537]]\nIteration = "
     ]
    },
    {
     "name": "stdout",
     "output_type": "stream",
     "text": [
      " 43\nbound =  [[-159.32947449]]\nIteration = "
     ]
    },
    {
     "name": "stdout",
     "output_type": "stream",
     "text": [
      " 44\nbound =  [[-159.17780517]]\nIteration = "
     ]
    },
    {
     "name": "stdout",
     "output_type": "stream",
     "text": [
      " 45\nbound =  [[-159.03164629]]\nIteration = "
     ]
    },
    {
     "name": "stdout",
     "output_type": "stream",
     "text": [
      " 46\nbound =  [[-158.89068281]]\nIteration = "
     ]
    },
    {
     "name": "stdout",
     "output_type": "stream",
     "text": [
      " 47\nbound =  [[-158.75462324]]\nIteration = "
     ]
    },
    {
     "name": "stdout",
     "output_type": "stream",
     "text": [
      " 48\nbound =  [[-158.62319751]]\nIteration = "
     ]
    },
    {
     "name": "stdout",
     "output_type": "stream",
     "text": [
      " 49\nbound =  [[-158.49615498]]\nIteration = "
     ]
    },
    {
     "name": "stdout",
     "output_type": "stream",
     "text": [
      " 50\nbound =  [[-158.3732627]]\nIteration = "
     ]
    },
    {
     "name": "stdout",
     "output_type": "stream",
     "text": [
      " 51\nbound =  [[-158.25430388]]\nIteration = "
     ]
    },
    {
     "name": "stdout",
     "output_type": "stream",
     "text": [
      " 52\nbound =  [[-158.13907647]]\nIteration = "
     ]
    },
    {
     "name": "stdout",
     "output_type": "stream",
     "text": [
      " 53\nbound =  [[-158.02739191]]\nIteration = "
     ]
    },
    {
     "name": "stdout",
     "output_type": "stream",
     "text": [
      " 54\nbound =  [[-157.91907403]]\nIteration = "
     ]
    },
    {
     "name": "stdout",
     "output_type": "stream",
     "text": [
      " 55\nbound =  [[-157.81395803]]\nIteration = "
     ]
    },
    {
     "name": "stdout",
     "output_type": "stream",
     "text": [
      " 56\nbound =  [[-157.71188953]]\nIteration = "
     ]
    },
    {
     "name": "stdout",
     "output_type": "stream",
     "text": [
      " 57\nbound =  [[-157.6127238]]\n0.1"
     ]
    },
    {
     "name": "stdout",
     "output_type": "stream",
     "text": [
      "\n"
     ]
    }
   ],
   "source": [
    "# Generate train and test split indices. \n",
    "train_index = random.sample(range(0, inputs.shape[0]), 2 * inputs.shape[0] / 3)\n",
    "test_index = list(set(range(inputs.shape[0])).difference(train_index))\n",
    "train_inputs = inputs[train_index, :]\n",
    "train_targets = targets[train_index,]\n",
    "input_gen = DataPreprocessor(train_inputs, train_targets)\n",
    "print \"loaded input_gen\"\n",
    "input_gen.encode_labels()\n",
    "print \"encoded y labels\"\n",
    "input_gen.create_X_matrix()\n",
    "print \"created X matrix\"\n",
    "\n",
    "# Train the classifier until the lower bound increases below a certain threshold between\n",
    "# iterations. \n",
    "mc_log = MultiClassLogistic(input_gen)\n",
    "mc_log.optimize_eb()\n",
    "print mc_log.misclassification_rate(inputs[test_index, :], targets[test_index])"
   ]
  },
  {
   "cell_type": "code",
   "execution_count": 17,
   "metadata": {},
   "outputs": [
    {
     "name": "stdout",
     "output_type": "stream",
     "text": [
      "misclassification rate = 0.060000\n"
     ]
    }
   ],
   "source": [
    "# Compare classification performance to that of an SVM \n",
    "# Logistic regression\n",
    "logreg = linear_model.LogisticRegression(C=1e5)\n",
    "logreg.fit(train_inputs, train_targets)\n",
    "predictions = logreg.predict(inputs[test_index, :])\n",
    "print \"misclassification rate = %f\" % (\n",
    "1 - (sum(targets[test_index,] == predictions)) / float(len(targets[test_index,])))"
   ]
  },
  {
   "cell_type": "code",
   "execution_count": null,
   "metadata": {},
   "outputs": [],
   "source": [
    ""
   ]
  }
 ],
 "metadata": {
  "name": "",
  "signature": "sha256:73c8742a478d4d7b61d3821c8ddda2a5bce98792ab32b87afafcd77c7f8f2546"
 },
 "nbformat": 4,
 "nbformat_minor": 0
}